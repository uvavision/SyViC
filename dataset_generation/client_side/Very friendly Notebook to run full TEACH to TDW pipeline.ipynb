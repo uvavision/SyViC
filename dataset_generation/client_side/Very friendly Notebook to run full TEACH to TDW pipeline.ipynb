{
 "cells": [
  {
   "cell_type": "code",
   "execution_count": 5,
   "id": "e1c7b2f8",
   "metadata": {},
   "outputs": [
    {
     "data": {
      "text/html": [
       "<style>\n",
       ".box_style0{\n",
       "    height: auto;\n",
       "    background-color:black;\n",
       "    background-image: url('img/125611494287978_registered_tex.jpg');\n",
       "    background-size: 100px;\n",
       "}\n",
       ".box_style1{\n",
       "    height: auto;\n",
       "    background-color:black;\n",
       "    background-image: url('img/125611494690178_registered_tex.jpg');\n",
       "    background-size: 100px;\n",
       "}\n",
       ".box_style2{\n",
       "    height: auto;\n",
       "    background-color:black;\n",
       "    background-image: url('img/125611494277906_registered_tex.jpg');\n",
       "    background-size: 100px;\n",
       "}\n",
       ".box_style3{\n",
       "    height: auto;\n",
       "    background-color:black;\n",
       "    background-image: url('img/125611494878291_registered_tex.jpg');\n",
       "    background-size: 100px;\n",
       "}\n",
       ".box_style4{\n",
       "    height: auto;\n",
       "    background-color:black;\n",
       "    background-image: url('img/125611487366942_registered_tex.jpg');\n",
       "    background-size: 100px;\n",
       "}\n",
       ".box_style5{\n",
       "    height: auto;\n",
       "    background-color:black;\n",
       "    background-image: url('img/125611494278283_registered_tex.jpg');\n",
       "    background-size: 100px;\n",
       "}\n",
       ".box_style6{\n",
       "    height: auto;\n",
       "    background-color:black;\n",
       "    background-image: url('img/125611495138902_registered_tex.jpg');\n",
       "    background-size: 100px;\n",
       "}\n",
       ".box_style7{\n",
       "    height: auto;\n",
       "    background-color:black;\n",
       "    background-image: url('img/125611494541823_registered_tex.jpg');\n",
       "    background-size: 100px;\n",
       "}\n",
       ".tdw_box_style0{\n",
       "    height: auto;\n",
       "    background-color:black;\n",
       "    background-image: url('img/img_-1.0_0.8_3.9_210_abandoned_factory.png');\n",
       "    background-size: 200px;\n",
       "}\n",
       ".tdw_box_style1{\n",
       "    height: auto;\n",
       "    background-color:black;\n",
       "    background-image: url('img/img_-0.8_0.4_-4.0_30_iceland_beach.png');\n",
       "    background-size: 200px;\n",
       "}\n",
       ".tdw_box_style2{\n",
       "    height: auto;\n",
       "    background-color:black;\n",
       "    background-image: url('img/img_-0.7_0.4_-1.5_90_suburb_scene_2018.png');\n",
       "    background-size: 200px;\n",
       "}\n",
       ".tdw_box_style3{\n",
       "    height: auto;\n",
       "    background-color:black;\n",
       "    background-image: url('img/img_-0.1_0.6_3.2_240_tdw_room.png');\n",
       "    background-size: 200px;\n",
       "}\n",
       "</style>\n"
      ],
      "text/plain": [
       "<IPython.core.display.HTML object>"
      ]
     },
     "metadata": {},
     "output_type": "display_data"
    }
   ],
   "source": [
    "%%html\n",
    "<style>\n",
    ".box_style0{\n",
    "    height: auto;\n",
    "    background-color:black;\n",
    "    background-image: url('img/125611494287978_registered_tex.jpg');\n",
    "    background-size: 100px;\n",
    "}\n",
    ".box_style1{\n",
    "    height: auto;\n",
    "    background-color:black;\n",
    "    background-image: url('img/125611494690178_registered_tex.jpg');\n",
    "    background-size: 100px;\n",
    "}\n",
    ".box_style2{\n",
    "    height: auto;\n",
    "    background-color:black;\n",
    "    background-image: url('img/125611494277906_registered_tex.jpg');\n",
    "    background-size: 100px;\n",
    "}\n",
    ".box_style3{\n",
    "    height: auto;\n",
    "    background-color:black;\n",
    "    background-image: url('img/125611494878291_registered_tex.jpg');\n",
    "    background-size: 100px;\n",
    "}\n",
    ".box_style4{\n",
    "    height: auto;\n",
    "    background-color:black;\n",
    "    background-image: url('img/125611487366942_registered_tex.jpg');\n",
    "    background-size: 100px;\n",
    "}\n",
    ".box_style5{\n",
    "    height: auto;\n",
    "    background-color:black;\n",
    "    background-image: url('img/125611494278283_registered_tex.jpg');\n",
    "    background-size: 100px;\n",
    "}\n",
    ".box_style6{\n",
    "    height: auto;\n",
    "    background-color:black;\n",
    "    background-image: url('img/125611495138902_registered_tex.jpg');\n",
    "    background-size: 100px;\n",
    "}\n",
    ".box_style7{\n",
    "    height: auto;\n",
    "    background-color:black;\n",
    "    background-image: url('img/125611494541823_registered_tex.jpg');\n",
    "    background-size: 100px;\n",
    "}\n",
    ".tdw_box_style0{\n",
    "    height: auto;\n",
    "    background-color:black;\n",
    "    background-image: url('img/img_-1.0_0.8_3.9_210_abandoned_factory.png');\n",
    "    background-size: 200px;\n",
    "}\n",
    ".tdw_box_style1{\n",
    "    height: auto;\n",
    "    background-color:black;\n",
    "    background-image: url('img/img_-0.8_0.4_-4.0_30_iceland_beach.png');\n",
    "    background-size: 200px;\n",
    "}\n",
    ".tdw_box_style2{\n",
    "    height: auto;\n",
    "    background-color:black;\n",
    "    background-image: url('img/img_-0.7_0.4_-1.5_90_suburb_scene_2018.png');\n",
    "    background-size: 200px;\n",
    "}\n",
    ".tdw_box_style3{\n",
    "    height: auto;\n",
    "    background-color:black;\n",
    "    background-image: url('img/img_-0.1_0.6_3.2_240_tdw_room.png');\n",
    "    background-size: 200px;\n",
    "}\n",
    "</style>"
   ]
  },
  {
   "cell_type": "code",
   "execution_count": 6,
   "id": "dcb8a34c",
   "metadata": {},
   "outputs": [],
   "source": [
    "import os\n",
    "import sys\n",
    "\n",
    "import socket\n",
    "import random\n",
    "import json\n",
    "import time\n",
    "\n",
    "from IPython.display import Video\n",
    "\n",
    "def run_teach(txt_actions, txt_duration):\n",
    "    print (\"++ Executing TEACH with custom input\")\n",
    "    call_teach_txt = f\"cd teach_gen/teach/;python interact_teach.py \\\n",
    "                    folder='ckpts/teach' \\\n",
    "                    output='out_samples/action_teach' \\\n",
    "                    texts='[{txt_actions}]' \\\n",
    "                    durs='[{txt_duration}]'\"\n",
    "\n",
    "    os.system(call_teach_txt)\n",
    "    print (\"+++ Teach execution done\")\n",
    "    \n",
    "def run_smpl_to_fbx():\n",
    "    print (\"++ Converting SMPL-X to FBX\")\n",
    "    call_fbx_converter_txt = \"cd teach_gen;~/anaconda/envs/teach/bin/python convert_to_FBX_py37.py\"\n",
    "    os.system(call_fbx_converter_txt)\n",
    "    print (\"+++ SMPL-X to FBX done\")\n",
    "    \n",
    "def send_fbx_to_server(clothe, scene, length):\n",
    "    print (\"-----\")\n",
    "    print (clothe, scene, length)\n",
    "    print (\"-----\")\n",
    "    HOSTNAME = \"\"\n",
    "    PORT = 10801\n",
    "\n",
    "    # # Send FBX data to server\n",
    "    path_to_fbx = \"teach_gen/teach_to_fbx_outdir/teach_fbx_0.fbx\"\n",
    "    s = socket.socket(socket.AF_INET, socket.SOCK_STREAM)\n",
    "    s.connect((HOSTNAME, PORT))\n",
    "    # send FBX\n",
    "    with open(path_to_fbx, \"rb\") as f:\n",
    "        data_fbx = f.read()\n",
    "    s.sendall(data_fbx)\n",
    "    # now I can close the connection\n",
    "    s.shutdown(socket.SHUT_RDWR)\n",
    "    s.close()\n",
    "    print(\"Sent FBX to server.\")\n",
    "    \n",
    "    time.sleep(2)\n",
    "    PORT = 10800\n",
    "    # # Reopen to send additiona information\n",
    "    s = socket.socket(socket.AF_INET, socket.SOCK_STREAM)\n",
    "    s.connect((HOSTNAME, PORT))\n",
    "    # send additional data to set clothe, select scene and length of clip\n",
    "    data = json.dumps({\"clothe\": clothe, \"scene\": scene, \"length\": length})\n",
    "    s.sendall(bytes(data, encoding=\"utf-8\"))\n",
    "    # s.send(data.encode())  \n",
    "    # now I can close the connection\n",
    "    s.shutdown(socket.SHUT_RDWR)\n",
    "    s.close()\n",
    "    print(\"Sent additional information.\")\n",
    "    \n",
    "def get_mp4_from_server():\n",
    "    HOSTNAME = \"0.0.0.0\"\n",
    "    PORT = 10802\n",
    "\n",
    "    ## now open socket in same host/port to recieve result\n",
    "    s = socket.socket(socket.AF_INET, socket.SOCK_STREAM)\n",
    "    s.bind((HOSTNAME, PORT))\n",
    "    s.listen()\n",
    "\n",
    "    output_name_tmp = \"\"\n",
    "\n",
    "    while 1:\n",
    "        print(\"Waiting for connections.\")\n",
    "        conn, addr = s.accept()\n",
    "        with open(f\"result_{addr[1]}.mp4\", \"ab+\") as f:\n",
    "            print(\"Connected to addr:\", addr)\n",
    "            while 1:\n",
    "                data = conn.recv(1024)\n",
    "                if not data:\n",
    "                    break\n",
    "                f.write(data)\n",
    "            conn.close()\n",
    "        print(f\"Saved video output from {addr} at 'result_{addr[1]}.mp4'\")\n",
    "        output_name_tmp = f'result_{addr[1]}.mp4'\n",
    "\n",
    "        break\n",
    "\n",
    "    s.shutdown(socket.SHUT_RDWR)\n",
    "    s.close()\n",
    "    \n",
    "    return output_name_tmp"
   ]
  },
  {
   "cell_type": "code",
   "execution_count": 7,
   "id": "3d79b594",
   "metadata": {},
   "outputs": [
    {
     "data": {
      "application/vnd.jupyter.widget-view+json": {
       "model_id": "9d891a3c1e3443869abb747b6ec0e576",
       "version_major": 2,
       "version_minor": 0
      },
      "text/plain": [
       "Text(value='walk, stop, wave right hand, wave left hand', description='String:', layout=Layout(height='40px', …"
      ]
     },
     "metadata": {},
     "output_type": "display_data"
    },
    {
     "data": {
      "application/vnd.jupyter.widget-view+json": {
       "model_id": "21bf068983f7488dbf019c98b940a60b",
       "version_major": 2,
       "version_minor": 0
      },
      "text/plain": [
       "Text(value='5, 2, 5, 5', description='String:', layout=Layout(height='40px', width='auto'), placeholder='type …"
      ]
     },
     "metadata": {},
     "output_type": "display_data"
    },
    {
     "data": {
      "application/vnd.jupyter.widget-view+json": {
       "model_id": "f86a555eaea74ce5a2cec6904b796f38",
       "version_major": 2,
       "version_minor": 0
      },
      "text/plain": [
       "VBox(children=(VBox(children=(Label(value='Select one clothe:'), Text(value='125611494878291_registered_tex', …"
      ]
     },
     "metadata": {},
     "output_type": "display_data"
    },
    {
     "data": {
      "application/vnd.jupyter.widget-view+json": {
       "model_id": "2f8e4c46abc344b187c5ceab707f6ec9",
       "version_major": 2,
       "version_minor": 0
      },
      "text/plain": [
       "Button(description='TEACH to TDW!', style=ButtonStyle())"
      ]
     },
     "metadata": {},
     "output_type": "display_data"
    },
    {
     "name": "stdout",
     "output_type": "stream",
     "text": [
      "Start running!\n",
      "++ Executing TEACH with custom input\n"
     ]
    },
    {
     "name": "stderr",
     "output_type": "stream",
     "text": [
      "Global seed set to 1234\n"
     ]
    },
    {
     "name": "stdout",
     "output_type": "stream",
     "text": [
      "[\u001b[36m21/11/22 03:06:03\u001b[0m][\u001b[34m__main__\u001b[0m][\u001b[32mINFO\u001b[0m] - Loading model\u001b[0m\n",
      "[\u001b[36m21/11/22 03:06:04\u001b[0m][\u001b[34mtorch.distributed.nn.jit.instantiator\u001b[0m][\u001b[32mINFO\u001b[0m] - Created a temporary directory at /tmp/tmp5a24bd24\u001b[0m\n",
      "[\u001b[36m21/11/22 03:06:04\u001b[0m][\u001b[34mtorch.distributed.nn.jit.instantiator\u001b[0m][\u001b[32mINFO\u001b[0m] - Writing /tmp/tmp5a24bd24/_remote_module_non_sriptable.py\u001b[0m\n",
      "[\u001b[36m21/11/22 03:06:07\u001b[0m][\u001b[34m__main__\u001b[0m][\u001b[32mINFO\u001b[0m] - Model 'teach' loaded\u001b[0m\n",
      "[\u001b[36m21/11/22 03:06:10\u001b[0m][\u001b[34m__main__\u001b[0m][\u001b[32mINFO\u001b[0m] - Model weights restored\u001b[0m\n"
     ]
    },
    {
     "name": "stderr",
     "output_type": "stream",
     "text": [
      "Global seed set to 0\n"
     ]
    },
    {
     "name": "stdout",
     "output_type": "stream",
     "text": [
      "+++ Teach execution done\n",
      "++ Converting SMPL-X to FBX\n",
      "Converted TEACH output to FBX in teach_to_fbx_outdir/teach_fbx_0.fbx\n",
      "+++ SMPL-X to FBX done\n",
      "-----\n",
      "img/125611494878291_registered_tex.jpg img/img_-0.8_0.4_-4.0_30_iceland_beach.png 15\n",
      "-----\n",
      "Sent FBX to server.\n",
      "Sent additional information.\n",
      "Waiting for connections.\n",
      "Connected to addr: ('9.47.227.246', 55258)\n",
      "Saved video output from ('9.47.227.246', 55258) at 'result_55258.mp4'\n"
     ]
    },
    {
     "data": {
      "text/html": [
       "<video src=\"result_55258.mp4\" controls  width=\"1024\"  height=\"576\">\n",
       "      Your browser does not support the <code>video</code> element.\n",
       "    </video>"
      ],
      "text/plain": [
       "<IPython.core.display.Video object>"
      ]
     },
     "metadata": {},
     "output_type": "display_data"
    }
   ],
   "source": [
    "import ipywidgets as widgets\n",
    "from ipywidgets import Layout, Button, VBox, HBox, Label, Box, Text\n",
    "from IPython.display import HTML\n",
    "from IPython.display import clear_output\n",
    "import glob\n",
    "\n",
    "all_imgs_clothes = glob.glob(\"img/*.jpg\")\n",
    "all_imgs_scenes = glob.glob(\"img/*.png\")\n",
    "\n",
    "output_name_tmp = \"\"\n",
    "chosen_clothe = all_imgs_clothes[0]\n",
    "chosen_scene = all_imgs_scenes[0]\n",
    "\n",
    "def on_clothe_selection(b):\n",
    "    global chosen_clothe\n",
    "    chosen_clothe = b.description\n",
    "    carousel_selected_show_clothe.value = chosen_clothe.split(\"/\")[-1].split(\".jpg\")[0]\n",
    "    \n",
    "def on_tdw_scene_selection(b):\n",
    "    global chosen_scene\n",
    "    chosen_scene = b.description\n",
    "    carousel_selected_show_scene.value = chosen_scene.split(\"/\")[-1].split(\".png\")[0]\n",
    "\n",
    "def css_btn_clothe_styling():\n",
    "    styles = open(\"clothe_btn_style.css\", \"r\").read()\n",
    "    return HTML(styles)\n",
    "\n",
    "# load cell style for buttons and images\n",
    "css_btn_clothe_styling()\n",
    "item_layout = Layout(height='100px', min_width='10px')\n",
    "txt_layout = widgets.Layout(width='auto', height='40px') \n",
    "\n",
    "actions_text = widgets.Text(\n",
    "    value='wave right hand, wave left hand, move backwards',\n",
    "    placeholder='type actions separated by comma',\n",
    "    description='String:',\n",
    "    disabled=False, layout=txt_layout\n",
    ")\n",
    "display(actions_text)\n",
    "\n",
    "duration_text = widgets.Text(\n",
    "    value='5, 5, 5',\n",
    "    placeholder='type duration of actions separated by comma',\n",
    "    description='String:',\n",
    "    disabled=False, layout=txt_layout\n",
    ")\n",
    "display(duration_text)\n",
    "\n",
    "items_clothes = []\n",
    "for ii, tt in enumerate(all_imgs_clothes):\n",
    "    b = Button(layout=item_layout, description=tt, button_style='warning', tooltip=tt) \n",
    "    b.add_class(f\"box_style{ii}\")\n",
    "    b.on_click(on_clothe_selection)\n",
    "    items_clothes.append(b)\n",
    "\n",
    "box_layout = Layout(overflow='scroll hidden',\n",
    "                    border='3px solid black',\n",
    "                    width='900px',\n",
    "                    height='',\n",
    "                    flex_flow='row',\n",
    "                    display='flex')\n",
    "carousel_selected_show_clothe = Text(value=chosen_clothe, disabled=True, layout=txt_layout)\n",
    "carousel_clothes = Box(children=items_clothes, layout=box_layout)\n",
    "vb1 = VBox([Label('Select one clothe:'), carousel_selected_show_clothe, carousel_clothes])\n",
    "\n",
    "####\n",
    "\n",
    "items_scenes = []\n",
    "for ii, tt in enumerate(all_imgs_scenes):\n",
    "    b = Button(layout=item_layout, description=tt, button_style='warning', tooltip=tt) \n",
    "    b.add_class(f\"tdw_box_style{ii}\")\n",
    "    b.on_click(on_tdw_scene_selection)\n",
    "    items_scenes.append(b)\n",
    "\n",
    "box_layout = Layout(overflow='scroll hidden',\n",
    "                    border='3px solid black',\n",
    "                    width='600px',\n",
    "                    height='',\n",
    "                    flex_flow='row',\n",
    "                    display='flex')\n",
    "carousel_scenes = Box(children=items_scenes, layout=box_layout)\n",
    "carousel_selected_show_scene = Text(value=chosen_scene, disabled=True, layout=txt_layout)\n",
    "vb2 = VBox([Label('Select one scene:'), carousel_selected_show_scene, carousel_scenes])\n",
    "\n",
    "display(VBox([vb1, vb2]))\n",
    "\n",
    "button = widgets.Button(description=\"TEACH to TDW!\")\n",
    "display(button)\n",
    "\n",
    "\n",
    "def on_button_clicked(b):\n",
    "    global output_name_tmp\n",
    "    clear_output()\n",
    "    display(actions_text)\n",
    "    display(duration_text)\n",
    "    display(VBox([vb1, vb2]))\n",
    "    display(button)\n",
    "    print (\"Start running!\")\n",
    "    run_teach(actions_text.value, duration_text.value)\n",
    "    run_smpl_to_fbx()\n",
    "    send_fbx_to_server(chosen_clothe, chosen_scene, 15)\n",
    "    output_name_tmp = get_mp4_from_server()\n",
    "    display(Video(output_name_tmp, width=1024, height=576))\n",
    "\n",
    "button.on_click(on_button_clicked)"
   ]
  },
  {
   "cell_type": "code",
   "execution_count": 11,
   "id": "556e2f4f",
   "metadata": {},
   "outputs": [
    {
     "data": {
      "text/html": [
       "<video src=\"result_37962.mp4\" controls  width=\"1024\"  height=\"576\">\n",
       "      Your browser does not support the <code>video</code> element.\n",
       "    </video>"
      ],
      "text/plain": [
       "<IPython.core.display.Video object>"
      ]
     },
     "metadata": {},
     "output_type": "display_data"
    }
   ],
   "source": [
    "display(Video(\"result_37962.mp4\", width=1024, height=576))"
   ]
  },
  {
   "cell_type": "code",
   "execution_count": 12,
   "id": "ecf1950b",
   "metadata": {},
   "outputs": [
    {
     "data": {
      "text/html": [
       "<video src=\"result_43548.mp4\" controls  width=\"1024\"  height=\"576\">\n",
       "      Your browser does not support the <code>video</code> element.\n",
       "    </video>"
      ],
      "text/plain": [
       "<IPython.core.display.Video object>"
      ]
     },
     "metadata": {},
     "output_type": "display_data"
    }
   ],
   "source": [
    "display(Video(\"result_43548.mp4\", width=1024, height=576))"
   ]
  },
  {
   "cell_type": "code",
   "execution_count": 18,
   "id": "4b0196a2",
   "metadata": {
    "scrolled": false
   },
   "outputs": [
    {
     "data": {
      "text/html": [
       "<video src=\"result_52968.mp4\" controls  width=\"1024\"  height=\"576\">\n",
       "      Your browser does not support the <code>video</code> element.\n",
       "    </video>"
      ],
      "text/plain": [
       "<IPython.core.display.Video object>"
      ]
     },
     "metadata": {},
     "output_type": "display_data"
    }
   ],
   "source": [
    "display(Video(\"result_52968.mp4\", width=1024, height=576))"
   ]
  },
  {
   "cell_type": "code",
   "execution_count": 13,
   "id": "1eaf0608",
   "metadata": {},
   "outputs": [
    {
     "data": {
      "text/html": [
       "<video src=\"result_45024.mp4\" controls  width=\"1024\"  height=\"576\">\n",
       "      Your browser does not support the <code>video</code> element.\n",
       "    </video>"
      ],
      "text/plain": [
       "<IPython.core.display.Video object>"
      ]
     },
     "metadata": {},
     "output_type": "display_data"
    }
   ],
   "source": [
    "display(Video(\"result_45024.mp4\", width=1024, height=576))"
   ]
  },
  {
   "cell_type": "code",
   "execution_count": 15,
   "id": "fcf63c87",
   "metadata": {
    "scrolled": false
   },
   "outputs": [
    {
     "data": {
      "text/html": [
       "<video src=\"result_47264.mp4\" controls  width=\"1024\"  height=\"576\">\n",
       "      Your browser does not support the <code>video</code> element.\n",
       "    </video>"
      ],
      "text/plain": [
       "<IPython.core.display.Video object>"
      ]
     },
     "metadata": {},
     "output_type": "display_data"
    }
   ],
   "source": [
    "display(Video(\"result_47264.mp4\", width=1024, height=576))"
   ]
  },
  {
   "cell_type": "code",
   "execution_count": null,
   "id": "f9cbfbc2",
   "metadata": {},
   "outputs": [],
   "source": []
  }
 ],
 "metadata": {
  "kernelspec": {
   "display_name": "Python 3 (ipykernel)",
   "language": "python",
   "name": "python3"
  },
  "language_info": {
   "codemirror_mode": {
    "name": "ipython",
    "version": 3
   },
   "file_extension": ".py",
   "mimetype": "text/x-python",
   "name": "python",
   "nbconvert_exporter": "python",
   "pygments_lexer": "ipython3",
   "version": "3.9.12"
  }
 },
 "nbformat": 4,
 "nbformat_minor": 5
}
